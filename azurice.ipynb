{
 "cells": [
  {
   "cell_type": "code",
   "execution_count": 4,
   "metadata": {
    "collapsed": true,
    "ExecuteTime": {
     "end_time": "2023-06-13T05:33:33.373547700Z",
     "start_time": "2023-06-13T05:33:29.819806700Z"
    }
   },
   "outputs": [
    {
     "name": "stdout",
     "output_type": "stream",
     "text": [
      "train images:  60000 , test images:  10000\n"
     ]
    },
    {
     "data": {
      "text/plain": "<PIL.Image.Image image mode=L size=28x28>",
      "image/png": "[encoded data removed]"
     },
     "execution_count": 4,
     "metadata": {},
     "output_type": "execute_result"
    }
   ],
   "source": [
    "import PIL\n",
    "import itertools\n",
    "import paddle\n",
    "\n",
    "train_dataset = paddle.vision.datasets.MNIST(mode='train') # 60,000\n",
    "test_dataset = paddle.vision.datasets.MNIST(mode='test')   # 10,000\n",
    "print('train images: ',len(train_dataset),', test images: ',len(test_dataset))\n",
    "\n",
    "image, label = train_dataset[0]\n",
    "type(image)\n",
    "PIL.ImageOps.invert(image)"
   ]
  }
 ],
 "metadata": {
  "kernelspec": {
   "display_name": "Python 3",
   "language": "python",
   "name": "python3"
  },
  "language_info": {
   "codemirror_mode": {
    "name": "ipython",
    "version": 2
   },
   "file_extension": ".py",
   "mimetype": "text/x-python",
   "name": "python",
   "nbconvert_exporter": "python",
   "pygments_lexer": "ipython2",
   "version": "2.7.6"
  }
 },
 "nbformat": 4,
 "nbformat_minor": 0
}
